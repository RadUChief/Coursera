{
 "cells": [
  {
   "cell_type": "markdown",
   "id": "94caef02-d01d-4cf7-9b6d-8128f8643154",
   "metadata": {},
   "source": [
    "# Data Science Tools and Ecosystem"
   ]
  },
  {
   "cell_type": "markdown",
   "id": "1699fbca-b525-4007-99b7-174673a7f86f",
   "metadata": {},
   "source": [
    "## Author: \n",
    "    Todd Adams"
   ]
  },
  {
   "cell_type": "markdown",
   "id": "ac9c0910-b0c3-4b36-92f9-6e62f74d3ab8",
   "metadata": {
    "tags": []
   },
   "source": [
    "### In this notebook, Data Science Tools and Ecosystem are summarized."
   ]
  },
  {
   "cell_type": "markdown",
   "id": "548d1e5d-0d49-4189-83c4-5fc8d8f2e123",
   "metadata": {},
   "source": [
    "**Objectives:**"
   ]
  },
  {
   "cell_type": "markdown",
   "id": "bd8ff52e-e468-479c-b632-dad1e0b0251a",
   "metadata": {
    "tags": []
   },
   "source": [
    "* List commonly used libraries used by Data Scientists\n",
    "* List commonly used Data Science Tools\n",
    "* Show examples of arithmetic expressions in Python"
   ]
  },
  {
   "cell_type": "markdown",
   "id": "5b732502-5dbc-4362-99a0-7b335bc97b82",
   "metadata": {},
   "source": [
    "### Some of the popular languages that Data Scientists use are:\n",
    "1. Python\n",
    "2. R\n",
    "3. SQL"
   ]
  },
  {
   "cell_type": "markdown",
   "id": "1387d1ec-fcd3-4705-91b0-880853ffacc5",
   "metadata": {},
   "source": [
    "Some of the commonly used libraries used by Data Scientists include:\n",
    "1. Pandas\n",
    "2. NumPy\n",
    "3. Matplotlib\n"
   ]
  },
  {
   "cell_type": "markdown",
   "id": "4598c555-8c6c-44c0-94aa-ce47165bc565",
   "metadata": {
    "tags": []
   },
   "source": [
    "|Data Science Tools|\n",
    "|------------------|\n",
    "|RStudio|\n",
    "|TensorFlow|\n",
    "|Apache Spark|\n"
   ]
  },
  {
   "cell_type": "markdown",
   "id": "8a34f9f5-a956-4aeb-991e-6688c67d7fed",
   "metadata": {},
   "source": [
    "### Below are a few examples of evaluating arithmetic expressions in Python:"
   ]
  },
  {
   "cell_type": "markdown",
   "id": "7c4a6163-c5cd-471c-895a-5dddc96a8e40",
   "metadata": {},
   "source": [
    " This a simple arithmetic expression to mutiply then add integers"
   ]
  },
  {
   "cell_type": "code",
   "execution_count": 8,
   "id": "a1169633-19c5-4634-af67-13f5e0f252c3",
   "metadata": {
    "tags": []
   },
   "outputs": [
    {
     "data": {
      "text/plain": [
       "17"
      ]
     },
     "execution_count": 8,
     "metadata": {},
     "output_type": "execute_result"
    }
   ],
   "source": [
    "(3*4)+5"
   ]
  },
  {
   "cell_type": "markdown",
   "id": "d4068ee2-1aad-483d-8720-1040a704db4b",
   "metadata": {
    "tags": []
   },
   "source": [
    "##### This below will convert 200 minutes to hours by diving by 60:"
   ]
  },
  {
   "cell_type": "code",
   "execution_count": 12,
   "id": "1ddfa13b-f0c0-4cc7-99fa-fa86dda82af8",
   "metadata": {
    "tags": []
   },
   "outputs": [
    {
     "data": {
      "text/plain": [
       "3.3333333333333335"
      ]
     },
     "execution_count": 12,
     "metadata": {},
     "output_type": "execute_result"
    }
   ],
   "source": [
    "200.0/60"
   ]
  },
  {
   "cell_type": "code",
   "execution_count": null,
   "id": "e96ccbec-8bf3-49c0-898b-43068cf38d7a",
   "metadata": {},
   "outputs": [],
   "source": []
  }
 ],
 "metadata": {
  "kernelspec": {
   "display_name": "Python",
   "language": "python",
   "name": "conda-env-python-py"
  },
  "language_info": {
   "codemirror_mode": {
    "name": "ipython",
    "version": 3
   },
   "file_extension": ".py",
   "mimetype": "text/x-python",
   "name": "python",
   "nbconvert_exporter": "python",
   "pygments_lexer": "ipython3",
   "version": "3.7.12"
  }
 },
 "nbformat": 4,
 "nbformat_minor": 5
}
